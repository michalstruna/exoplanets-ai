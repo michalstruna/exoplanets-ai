{
 "metadata": {
  "language_info": {
   "codemirror_mode": {
    "name": "ipython",
    "version": 3
   },
   "file_extension": ".py",
   "mimetype": "text/x-python",
   "name": "python",
   "nbconvert_exporter": "python",
   "pygments_lexer": "ipython3",
   "version": "3.8.5-final"
  },
  "orig_nbformat": 2,
  "kernelspec": {
   "name": "python3",
   "display_name": "Python 3",
   "language": "python"
  }
 },
 "nbformat": 4,
 "nbformat_minor": 2,
 "cells": [
  {
   "cell_type": "code",
   "execution_count": 1,
   "metadata": {},
   "outputs": [],
   "source": [
    "import lightkurve as lk\n",
    "import pandas as pd\n",
    "from astropy.io import fits\n",
    "import numpy as np"
   ]
  },
  {
   "source": [
    "# Metadata\n",
    "\n",
    "## Načtení"
   ],
   "cell_type": "markdown",
   "metadata": {}
  },
  {
   "cell_type": "code",
   "execution_count": 2,
   "metadata": {},
   "outputs": [
    {
     "output_type": "execute_result",
     "data": {
      "text/plain": [
       "        host  period\n",
       "0   Kepler-8   3.522\n",
       "1  Kepler-10   0.837\n",
       "2  Kepler-10  45.294"
      ],
      "text/html": "<div>\n<style scoped>\n    .dataframe tbody tr th:only-of-type {\n        vertical-align: middle;\n    }\n\n    .dataframe tbody tr th {\n        vertical-align: top;\n    }\n\n    .dataframe thead th {\n        text-align: right;\n    }\n</style>\n<table border=\"1\" class=\"dataframe\">\n  <thead>\n    <tr style=\"text-align: right;\">\n      <th></th>\n      <th>host</th>\n      <th>period</th>\n    </tr>\n  </thead>\n  <tbody>\n    <tr>\n      <th>0</th>\n      <td>Kepler-8</td>\n      <td>3.522</td>\n    </tr>\n    <tr>\n      <th>1</th>\n      <td>Kepler-10</td>\n      <td>0.837</td>\n    </tr>\n    <tr>\n      <th>2</th>\n      <td>Kepler-10</td>\n      <td>45.294</td>\n    </tr>\n  </tbody>\n</table>\n</div>"
     },
     "metadata": {},
     "execution_count": 2
    }
   ],
   "source": [
    "pos = pd.read_csv(\"positive.csv\")\n",
    "pos"
   ]
  },
  {
   "source": [
    "## Seskupení dle systémů"
   ],
   "cell_type": "markdown",
   "metadata": {}
  },
  {
   "cell_type": "code",
   "execution_count": 3,
   "metadata": {},
   "outputs": [
    {
     "output_type": "execute_result",
     "data": {
      "text/plain": [
       "{'Kepler-10': [0.837, 45.294], 'Kepler-8': [3.522]}"
      ]
     },
     "metadata": {},
     "execution_count": 3
    }
   ],
   "source": [
    "grouped_pos = pos.groupby(\"host\").period.apply(list).to_dict()\n",
    "grouped_pos"
   ]
  },
  {
   "source": [
    "## Doplnění negativních period"
   ],
   "cell_type": "markdown",
   "metadata": {}
  },
  {
   "cell_type": "code",
   "execution_count": 4,
   "metadata": {},
   "outputs": [
    {
     "output_type": "execute_result",
     "data": {
      "text/plain": [
       "[{'host': 'Kepler-10',\n",
       "  'periods': [{'period': 0.565, 'planet': 0},\n",
       "   {'period': 0.837, 'planet': 1},\n",
       "   {'period': 22.228499999999997, 'planet': 0},\n",
       "   {'period': 45.294, 'planet': 1},\n",
       "   {'period': 75.64097999999998, 'planet': 0}]},\n",
       " {'host': 'Kepler-8',\n",
       "  'periods': [{'period': 1.761, 'planet': 0},\n",
       "   {'period': 3.522, 'planet': 1},\n",
       "   {'period': 5.88174, 'planet': 0}]}]"
      ]
     },
     "metadata": {},
     "execution_count": 4
    }
   ],
   "source": [
    "grouped = []\n",
    "\n",
    "for host in grouped_pos:\n",
    "    periods = grouped_pos[host]\n",
    "    \n",
    "    grouped_item = {\"host\": host, \"periods\": []}\n",
    "\n",
    "    for i in range(len(periods)):\n",
    "        last = periods[i - 1] if i > 0 else 0\n",
    "        next = periods[i]\n",
    "        mid = max((next - last) / 2, 0.5 * 1.13)\n",
    "\n",
    "        grouped_item[\"periods\"] += [{\"period\": mid, \"planet\": 0}, {\"period\": next, \"planet\": 1}]\n",
    "\n",
    "    grouped_item[\"periods\"] += [{\"period\": periods[-1] * 1.67, \"planet\": 0}]\n",
    "    grouped.append(grouped_item)\n",
    "\n",
    "grouped"
   ]
  },
  {
   "source": [
    "# Trénovací množina\n",
    "\n",
    "## Stažení TPS a uložení křivek"
   ],
   "cell_type": "markdown",
   "metadata": {}
  },
  {
   "cell_type": "code",
   "execution_count": 5,
   "metadata": {},
   "outputs": [
    {
     "output_type": "execute_result",
     "data": {
      "text/plain": [
       "dict_keys(['Kepler-10', 'Kepler-8'])"
      ]
     },
     "metadata": {},
     "execution_count": 5
    }
   ],
   "source": [
    "lcs = {}\n",
    "\n",
    "for item in grouped:\n",
    "    host, periods = item[\"host\"], item[\"periods\"]\n",
    "    lc_path = f\".cache/lc/{host}.fits\"\n",
    "\n",
    "    try:\n",
    "        lc = lk.read(lc_path)\n",
    "    except:\n",
    "        tps = lk.search_targetpixelfile(host, mission=\"Kepler\", exptime=\"long\").download_all()\n",
    "        lcc = map(lambda tp: tp.to_lightcurve(aperture_mask=tp.pipeline_mask), tps)\n",
    "        lc = lk.LightCurveCollection(lcc).stitch().flatten(window_length=501).remove_outliers()\n",
    "        lc.to_fits(lc_path)\n",
    "\n",
    "    lcs[host] = lc\n",
    "\n",
    "lcs.keys()"
   ]
  },
  {
   "source": [
    "## Hledání period a uložení metadat o tranzitech"
   ],
   "cell_type": "markdown",
   "metadata": {}
  },
  {
   "cell_type": "code",
   "execution_count": 6,
   "metadata": {},
   "outputs": [
    {
     "output_type": "execute_result",
     "data": {
      "text/plain": [
       "        host     period   dur          t0  planet\n",
       "0  Kepler-10   0.558324  0.05  120.974147       0\n",
       "1  Kepler-10   0.837498  0.10  120.684147       1\n",
       "2  Kepler-10  22.647417  0.25  138.664147       0\n",
       "3  Kepler-10  45.293774  0.25  138.679147       1\n",
       "4  Kepler-10  76.074803  0.33  151.489147       0\n",
       "5   Kepler-8   1.761255  0.15  121.109794       0\n",
       "6   Kepler-8   3.522511  0.15  121.109794       1\n",
       "7   Kepler-8   5.748718  0.33  124.564794       0"
      ],
      "text/html": "<div>\n<style scoped>\n    .dataframe tbody tr th:only-of-type {\n        vertical-align: middle;\n    }\n\n    .dataframe tbody tr th {\n        vertical-align: top;\n    }\n\n    .dataframe thead th {\n        text-align: right;\n    }\n</style>\n<table border=\"1\" class=\"dataframe\">\n  <thead>\n    <tr style=\"text-align: right;\">\n      <th></th>\n      <th>host</th>\n      <th>period</th>\n      <th>dur</th>\n      <th>t0</th>\n      <th>planet</th>\n    </tr>\n  </thead>\n  <tbody>\n    <tr>\n      <th>0</th>\n      <td>Kepler-10</td>\n      <td>0.558324</td>\n      <td>0.05</td>\n      <td>120.974147</td>\n      <td>0</td>\n    </tr>\n    <tr>\n      <th>1</th>\n      <td>Kepler-10</td>\n      <td>0.837498</td>\n      <td>0.10</td>\n      <td>120.684147</td>\n      <td>1</td>\n    </tr>\n    <tr>\n      <th>2</th>\n      <td>Kepler-10</td>\n      <td>22.647417</td>\n      <td>0.25</td>\n      <td>138.664147</td>\n      <td>0</td>\n    </tr>\n    <tr>\n      <th>3</th>\n      <td>Kepler-10</td>\n      <td>45.293774</td>\n      <td>0.25</td>\n      <td>138.679147</td>\n      <td>1</td>\n    </tr>\n    <tr>\n      <th>4</th>\n      <td>Kepler-10</td>\n      <td>76.074803</td>\n      <td>0.33</td>\n      <td>151.489147</td>\n      <td>0</td>\n    </tr>\n    <tr>\n      <th>5</th>\n      <td>Kepler-8</td>\n      <td>1.761255</td>\n      <td>0.15</td>\n      <td>121.109794</td>\n      <td>0</td>\n    </tr>\n    <tr>\n      <th>6</th>\n      <td>Kepler-8</td>\n      <td>3.522511</td>\n      <td>0.15</td>\n      <td>121.109794</td>\n      <td>1</td>\n    </tr>\n    <tr>\n      <th>7</th>\n      <td>Kepler-8</td>\n      <td>5.748718</td>\n      <td>0.33</td>\n      <td>124.564794</td>\n      <td>0</td>\n    </tr>\n  </tbody>\n</table>\n</div>"
     },
     "metadata": {},
     "execution_count": 6
    }
   ],
   "source": [
    "try:\n",
    "    grouped_df = pd.read_csv(\".cache/grouped.csv\")\n",
    "except:\n",
    "    grouped_df = []\n",
    "\n",
    "    for item in grouped:\n",
    "        lc = lcs[item[\"host\"]]\n",
    "\n",
    "        for per in item[\"periods\"]:\n",
    "            period = per[\"period\"]\n",
    "            pdg = lc.to_periodogram(\"bls\", period=np.linspace(max(0.5, period * 0.9), period * 1.1, 10000))\n",
    "            per[\"period\"], per[\"dur\"], per[\"t0\"] = pdg.period_at_max_power.value, pdg.duration_at_max_power.value, pdg.transit_time_at_max_power.value\n",
    "            grouped_df.append({\"host\": item[\"host\"], \"period\": per[\"period\"], \"dur\": per[\"dur\"], \"t0\": per[\"t0\"], \"planet\": per[\"planet\"]})\n",
    "\n",
    "    grouped_df = pd.DataFrame(grouped_df)\n",
    "    grouped_df.to_csv(\".cache/grouped.csv\", index=False)\n",
    "\n",
    "grouped_df"
   ]
  },
  {
   "source": [
    "## Seskupení metadat o tranzitech"
   ],
   "cell_type": "markdown",
   "metadata": {}
  },
  {
   "cell_type": "code",
   "execution_count": 7,
   "metadata": {},
   "outputs": [
    {
     "output_type": "execute_result",
     "data": {
      "text/plain": [
       "[{'host': 'Kepler-10',\n",
       "  'periods': [{'per': 0.5583241912095604,\n",
       "    'dur': 0.05,\n",
       "    't0': 120.9741465105713,\n",
       "    'planet': 0},\n",
       "   {'per': 0.8374980399019951,\n",
       "    'dur': 0.1,\n",
       "    't0': 120.6841465105713,\n",
       "    'planet': 1},\n",
       "   {'per': 22.647417028351416,\n",
       "    'dur': 0.25,\n",
       "    't0': 138.6641465105713,\n",
       "    'planet': 0},\n",
       "   {'per': 45.293773518675934,\n",
       "    'dur': 0.25,\n",
       "    't0': 138.6791465105713,\n",
       "    'planet': 1},\n",
       "   {'per': 76.07480271143555,\n",
       "    'dur': 0.33,\n",
       "    't0': 151.4891465105713,\n",
       "    'planet': 0}]},\n",
       " {'host': 'Kepler-8',\n",
       "  'periods': [{'per': 1.7612553577678884,\n",
       "    'dur': 0.15,\n",
       "    't0': 121.1097940620678,\n",
       "    'planet': 0},\n",
       "   {'per': 3.522510715535777,\n",
       "    'dur': 0.15,\n",
       "    't0': 121.1097940620678,\n",
       "    'planet': 1},\n",
       "   {'per': 5.74871779878994,\n",
       "    'dur': 0.33,\n",
       "    't0': 124.56479406206782,\n",
       "    'planet': 0}]}]"
      ]
     },
     "metadata": {},
     "execution_count": 7
    }
   ],
   "source": [
    "grouped = {}\n",
    "\n",
    "for i, item in grouped_df.iterrows():\n",
    "    if item[\"host\"] not in grouped:\n",
    "        grouped[item[\"host\"]] = {\"host\": item[\"host\"], \"periods\": []}\n",
    "\n",
    "    grouped[item[\"host\"]][\"periods\"].append({\"per\": item[\"period\"], \"dur\": item[\"dur\"], \"t0\": item[\"t0\"], \"planet\": item[\"planet\"]})\n",
    "\n",
    "grouped = list(grouped.values())\n",
    "grouped"
   ]
  },
  {
   "source": [
    "## Sestavení lokálních a globálních pohledů"
   ],
   "cell_type": "markdown",
   "metadata": {}
  },
  {
   "cell_type": "code",
   "execution_count": 11,
   "metadata": {
    "tags": []
   },
   "outputs": [],
   "source": [
    "lv_input, gv_input, output = [], [], []\n",
    "\n",
    "for item in grouped:\n",
    "    lc = lcs[item[\"host\"]]\n",
    "\n",
    "    for period in item[\"periods\"]:\n",
    "        per, dur, t0 = period[\"per\"], period[\"dur\"], period[\"t0\"]\n",
    "        fold = lc.fold(per, epoch_time=t0).remove_outliers(sigma=10, sigma_lower=20)\n",
    "        gv = fold.bin(n_bins=2001)\n",
    "        gv = gv.normalize() - 1\n",
    "        gv = (gv / np.abs(gv.flux.min())) * 2.0 + 1\n",
    "\n",
    "        fractional_duration = dur / per\n",
    "        phase_mask = (fold.phase.value > -4 * fractional_duration) & (fold.phase.value < 4 * fractional_duration)\n",
    "        lc_zoom = fold[phase_mask]\n",
    "        lv = lc_zoom.bin(n_bins=201)\n",
    "        lv = lv.normalize() - 1\n",
    "        lv = (lv / np.abs(lv.flux.min())) * 2.0 + 1\n",
    "\n",
    "        period[\"gv\"], period[\"lv\"] = gv, lv\n",
    "        lv_input.append(lv.flux.value)\n",
    "        gv_input.append(gv.flux.value)\n",
    "\n",
    "        out = np.zeros(2,)\n",
    "        out[period[\"planet\"]] = 1\n",
    "        output.append(out)\n",
    "\n",
    "lv_input, gv_input, output = np.array(lv_input), np.array(gv_input), np.array(output)"
   ]
  },
  {
   "cell_type": "code",
   "execution_count": null,
   "metadata": {},
   "outputs": [],
   "source": []
  }
 ]
}