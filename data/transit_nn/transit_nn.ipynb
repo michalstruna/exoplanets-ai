{
 "metadata": {
  "language_info": {
   "codemirror_mode": {
    "name": "ipython",
    "version": 3
   },
   "file_extension": ".py",
   "mimetype": "text/x-python",
   "name": "python",
   "nbconvert_exporter": "python",
   "pygments_lexer": "ipython3",
   "version": "3.8.5-final"
  },
  "orig_nbformat": 2,
  "kernelspec": {
   "name": "python3",
   "display_name": "Python 3",
   "language": "python"
  }
 },
 "nbformat": 4,
 "nbformat_minor": 2,
 "cells": [
  {
   "cell_type": "code",
   "execution_count": 1,
   "metadata": {},
   "outputs": [],
   "source": [
    "import lightkurve as lk\n",
    "import pandas as pd\n",
    "from astropy.io import fits\n",
    "import numpy as np"
   ]
  },
  {
   "source": [
    "# Metadata\n",
    "\n",
    "## Načtení"
   ],
   "cell_type": "markdown",
   "metadata": {}
  },
  {
   "cell_type": "code",
   "execution_count": 2,
   "metadata": {},
   "outputs": [
    {
     "output_type": "execute_result",
     "data": {
      "text/plain": [
       "        host  period\n",
       "0   Kepler-8   3.522\n",
       "1  Kepler-10   0.837\n",
       "2  Kepler-10  45.294"
      ],
      "text/html": "<div>\n<style scoped>\n    .dataframe tbody tr th:only-of-type {\n        vertical-align: middle;\n    }\n\n    .dataframe tbody tr th {\n        vertical-align: top;\n    }\n\n    .dataframe thead th {\n        text-align: right;\n    }\n</style>\n<table border=\"1\" class=\"dataframe\">\n  <thead>\n    <tr style=\"text-align: right;\">\n      <th></th>\n      <th>host</th>\n      <th>period</th>\n    </tr>\n  </thead>\n  <tbody>\n    <tr>\n      <th>0</th>\n      <td>Kepler-8</td>\n      <td>3.522</td>\n    </tr>\n    <tr>\n      <th>1</th>\n      <td>Kepler-10</td>\n      <td>0.837</td>\n    </tr>\n    <tr>\n      <th>2</th>\n      <td>Kepler-10</td>\n      <td>45.294</td>\n    </tr>\n  </tbody>\n</table>\n</div>"
     },
     "metadata": {},
     "execution_count": 2
    }
   ],
   "source": [
    "pos = pd.read_csv(\"positive.csv\")\n",
    "pos"
   ]
  },
  {
   "source": [
    "## Seskupení dle systémů"
   ],
   "cell_type": "markdown",
   "metadata": {}
  },
  {
   "cell_type": "code",
   "execution_count": 3,
   "metadata": {},
   "outputs": [
    {
     "output_type": "execute_result",
     "data": {
      "text/plain": [
       "{'Kepler-10': [0.837, 45.294], 'Kepler-8': [3.522]}"
      ]
     },
     "metadata": {},
     "execution_count": 3
    }
   ],
   "source": [
    "grouped_pos = pos.groupby(\"host\").period.apply(list).to_dict()\n",
    "grouped_pos"
   ]
  },
  {
   "source": [
    "## Doplnění negativních period"
   ],
   "cell_type": "markdown",
   "metadata": {}
  },
  {
   "cell_type": "code",
   "execution_count": 4,
   "metadata": {},
   "outputs": [
    {
     "output_type": "execute_result",
     "data": {
      "text/plain": [
       "[{'host': 'Kepler-10',\n",
       "  'periods': [{'period': 0.565, 'planet': 0},\n",
       "   {'period': 0.837, 'planet': 1},\n",
       "   {'period': 22.228499999999997, 'planet': 0},\n",
       "   {'period': 45.294, 'planet': 1},\n",
       "   {'period': 75.64097999999998, 'planet': 0}]},\n",
       " {'host': 'Kepler-8',\n",
       "  'periods': [{'period': 1.761, 'planet': 0},\n",
       "   {'period': 3.522, 'planet': 1},\n",
       "   {'period': 5.88174, 'planet': 0}]}]"
      ]
     },
     "metadata": {},
     "execution_count": 4
    }
   ],
   "source": [
    "grouped = []\n",
    "\n",
    "for host in grouped_pos:\n",
    "    periods = grouped_pos[host]\n",
    "    \n",
    "    grouped_item = {\"host\": host, \"periods\": []}\n",
    "\n",
    "    for i in range(len(periods)):\n",
    "        last = periods[i - 1] if i > 0 else 0\n",
    "        next = periods[i]\n",
    "        mid = max((next - last) / 2, 0.5 * 1.13)\n",
    "\n",
    "        grouped_item[\"periods\"] += [{\"period\": mid, \"planet\": 0}, {\"period\": next, \"planet\": 1}]\n",
    "\n",
    "    grouped_item[\"periods\"] += [{\"period\": periods[-1] * 1.67, \"planet\": 0}]\n",
    "    grouped.append(grouped_item)\n",
    "\n",
    "grouped"
   ]
  },
  {
   "source": [
    "# Trénovací množina\n",
    "\n",
    "## Stažení TPS a uložení křivek"
   ],
   "cell_type": "markdown",
   "metadata": {}
  },
  {
   "cell_type": "code",
   "execution_count": 8,
   "metadata": {},
   "outputs": [
    {
     "output_type": "execute_result",
     "data": {
      "text/plain": [
       "dict_keys(['Kepler-10', 'Kepler-8'])"
      ]
     },
     "metadata": {},
     "execution_count": 8
    }
   ],
   "source": [
    "lcs = {}\n",
    "\n",
    "for item in grouped:\n",
    "    host, periods = item[\"host\"], item[\"periods\"]\n",
    "    lc_path = f\".cache/lc/{host}.fits\"\n",
    "\n",
    "    try:\n",
    "        lc = lk.read(lc_path)\n",
    "    except:\n",
    "        tps = lk.search_targetpixelfile(host, mission=\"Kepler\", exptime=\"long\").download_all()  # limit=15\n",
    "        lcc = map(lambda tp: tp.to_lightcurve(aperture_mask=tp.pipeline_mask), tps)\n",
    "        lc = lk.LightCurveCollection(lcc).stitch().flatten(window_length=301)#.remove_outliers()\n",
    "        lc.to_fits(lc_path)\n",
    "\n",
    "    lcs[host] = lc\n",
    "\n",
    "lcs.keys()"
   ]
  },
  {
   "source": [
    "## Hledání period a sestavení lokálních a globálních pohledů"
   ],
   "cell_type": "markdown",
   "metadata": {}
  },
  {
   "cell_type": "code",
   "execution_count": 9,
   "metadata": {
    "tags": []
   },
   "outputs": [
    {
     "output_type": "stream",
     "name": "stderr",
     "text": [
      "`period` contains 1546266 points.Periodogram is likely to be large, and slow to evaluate. Consider setting `frequency_factor` to a higher value.\n",
      "`period` contains 1043775 points.Periodogram is likely to be large, and slow to evaluate. Consider setting `frequency_factor` to a higher value.\n",
      "Kepler-10 0.5313488488488488\n",
      "Kepler-10 0.8374189189189191\n"
     ]
    },
    {
     "output_type": "error",
     "ename": "IndexError",
     "evalue": "boolean index did not match indexed array along dimension 0; dimension is 52195 but corresponding boolean dimension is 52052",
     "traceback": [
      "\u001b[0;31m---------------------------------------------------------------------------\u001b[0m",
      "\u001b[0;31mIndexError\u001b[0m                                Traceback (most recent call last)",
      "\u001b[0;32m<ipython-input-9-4a41affb66fc>\u001b[0m in \u001b[0;36m<module>\u001b[0;34m\u001b[0m\n\u001b[1;32m     41\u001b[0m         \u001b[0;32mif\u001b[0m \u001b[0mperiod\u001b[0m\u001b[0;34m[\u001b[0m\u001b[0;34m\"planet\"\u001b[0m\u001b[0;34m]\u001b[0m\u001b[0;34m:\u001b[0m\u001b[0;34m\u001b[0m\u001b[0;34m\u001b[0m\u001b[0m\n\u001b[1;32m     42\u001b[0m             \u001b[0mmask\u001b[0m \u001b[0;34m=\u001b[0m \u001b[0mpdg\u001b[0m\u001b[0;34m.\u001b[0m\u001b[0mget_transit_mask\u001b[0m\u001b[0;34m(\u001b[0m\u001b[0mperiod\u001b[0m\u001b[0;34m=\u001b[0m\u001b[0mper\u001b[0m\u001b[0;34m,\u001b[0m \u001b[0mtransit_time\u001b[0m\u001b[0;34m=\u001b[0m\u001b[0mt0\u001b[0m\u001b[0;34m,\u001b[0m \u001b[0mduration\u001b[0m\u001b[0;34m=\u001b[0m\u001b[0mdur\u001b[0m\u001b[0;34m)\u001b[0m\u001b[0;34m\u001b[0m\u001b[0;34m\u001b[0m\u001b[0m\n\u001b[0;32m---> 43\u001b[0;31m             \u001b[0mmasked_lc\u001b[0m \u001b[0;34m=\u001b[0m \u001b[0mlc\u001b[0m\u001b[0;34m[\u001b[0m\u001b[0;34m~\u001b[0m\u001b[0mmask\u001b[0m\u001b[0;34m]\u001b[0m\u001b[0;34m\u001b[0m\u001b[0;34m\u001b[0m\u001b[0m\n\u001b[0m\u001b[1;32m     44\u001b[0m \u001b[0;34m\u001b[0m\u001b[0m\n\u001b[1;32m     45\u001b[0m         \u001b[0;31m#lv.scatter()\u001b[0m\u001b[0;34m\u001b[0m\u001b[0;34m\u001b[0m\u001b[0;34m\u001b[0m\u001b[0m\n",
      "\u001b[0;32m~/.local/lib/python3.8/site-packages/astropy/timeseries/sampled.py\u001b[0m in \u001b[0;36m__getitem__\u001b[0;34m(self, item)\u001b[0m\n\u001b[1;32m    254\u001b[0m                                                  keys=self.groups._keys)\n\u001b[1;32m    255\u001b[0m                 \u001b[0;32mreturn\u001b[0m \u001b[0mout\u001b[0m\u001b[0;34m\u001b[0m\u001b[0;34m\u001b[0m\u001b[0m\n\u001b[0;32m--> 256\u001b[0;31m         \u001b[0;32mreturn\u001b[0m \u001b[0msuper\u001b[0m\u001b[0;34m(\u001b[0m\u001b[0;34m)\u001b[0m\u001b[0;34m.\u001b[0m\u001b[0m__getitem__\u001b[0m\u001b[0;34m(\u001b[0m\u001b[0mitem\u001b[0m\u001b[0;34m)\u001b[0m\u001b[0;34m\u001b[0m\u001b[0;34m\u001b[0m\u001b[0m\n\u001b[0m\u001b[1;32m    257\u001b[0m \u001b[0;34m\u001b[0m\u001b[0m\n\u001b[1;32m    258\u001b[0m     \u001b[0;32mdef\u001b[0m \u001b[0madd_column\u001b[0m\u001b[0;34m(\u001b[0m\u001b[0mself\u001b[0m\u001b[0;34m,\u001b[0m \u001b[0;34m*\u001b[0m\u001b[0margs\u001b[0m\u001b[0;34m,\u001b[0m \u001b[0;34m**\u001b[0m\u001b[0mkwargs\u001b[0m\u001b[0;34m)\u001b[0m\u001b[0;34m:\u001b[0m\u001b[0;34m\u001b[0m\u001b[0;34m\u001b[0m\u001b[0m\n",
      "\u001b[0;32m~/.local/lib/python3.8/site-packages/astropy/table/table.py\u001b[0m in \u001b[0;36m__getitem__\u001b[0;34m(self, item)\u001b[0m\n\u001b[1;32m   1662\u001b[0m             \u001b[0;31m# is produced by np.where, as in t[np.where(t['a'] > 2)]\u001b[0m\u001b[0;34m\u001b[0m\u001b[0;34m\u001b[0m\u001b[0;34m\u001b[0m\u001b[0m\n\u001b[1;32m   1663\u001b[0m             \u001b[0;31m# For all, a new table is constructed with slice of all columns\u001b[0m\u001b[0;34m\u001b[0m\u001b[0;34m\u001b[0m\u001b[0;34m\u001b[0m\u001b[0m\n\u001b[0;32m-> 1664\u001b[0;31m             \u001b[0;32mreturn\u001b[0m \u001b[0mself\u001b[0m\u001b[0;34m.\u001b[0m\u001b[0m_new_from_slice\u001b[0m\u001b[0;34m(\u001b[0m\u001b[0mitem\u001b[0m\u001b[0;34m)\u001b[0m\u001b[0;34m\u001b[0m\u001b[0;34m\u001b[0m\u001b[0m\n\u001b[0m\u001b[1;32m   1665\u001b[0m         \u001b[0;32melse\u001b[0m\u001b[0;34m:\u001b[0m\u001b[0;34m\u001b[0m\u001b[0;34m\u001b[0m\u001b[0m\n\u001b[1;32m   1666\u001b[0m             raise ValueError('Illegal type {} for table item access'\n",
      "\u001b[0;32m~/.local/lib/python3.8/site-packages/astropy/table/table.py\u001b[0m in \u001b[0;36m_new_from_slice\u001b[0;34m(self, slice_)\u001b[0m\n\u001b[1;32m   1179\u001b[0m         \u001b[0mnewcols\u001b[0m \u001b[0;34m=\u001b[0m \u001b[0;34m[\u001b[0m\u001b[0;34m]\u001b[0m\u001b[0;34m\u001b[0m\u001b[0;34m\u001b[0m\u001b[0m\n\u001b[1;32m   1180\u001b[0m         \u001b[0;32mfor\u001b[0m \u001b[0mcol\u001b[0m \u001b[0;32min\u001b[0m \u001b[0mself\u001b[0m\u001b[0;34m.\u001b[0m\u001b[0mcolumns\u001b[0m\u001b[0;34m.\u001b[0m\u001b[0mvalues\u001b[0m\u001b[0;34m(\u001b[0m\u001b[0;34m)\u001b[0m\u001b[0;34m:\u001b[0m\u001b[0;34m\u001b[0m\u001b[0;34m\u001b[0m\u001b[0m\n\u001b[0;32m-> 1181\u001b[0;31m             \u001b[0mnewcol\u001b[0m \u001b[0;34m=\u001b[0m \u001b[0mcol\u001b[0m\u001b[0;34m[\u001b[0m\u001b[0mslice_\u001b[0m\u001b[0;34m]\u001b[0m\u001b[0;34m\u001b[0m\u001b[0;34m\u001b[0m\u001b[0m\n\u001b[0m\u001b[1;32m   1182\u001b[0m \u001b[0;34m\u001b[0m\u001b[0m\n\u001b[1;32m   1183\u001b[0m             \u001b[0;31m# Note in line below, use direct attribute access to col.indices for Column\u001b[0m\u001b[0;34m\u001b[0m\u001b[0;34m\u001b[0m\u001b[0;34m\u001b[0m\u001b[0m\n",
      "\u001b[0;32m~/.local/lib/python3.8/site-packages/astropy/utils/shapes.py\u001b[0m in \u001b[0;36m__getitem__\u001b[0;34m(self, item)\u001b[0m\n\u001b[1;32m     93\u001b[0m     \u001b[0;32mdef\u001b[0m \u001b[0m__getitem__\u001b[0m\u001b[0;34m(\u001b[0m\u001b[0mself\u001b[0m\u001b[0;34m,\u001b[0m \u001b[0mitem\u001b[0m\u001b[0;34m)\u001b[0m\u001b[0;34m:\u001b[0m\u001b[0;34m\u001b[0m\u001b[0;34m\u001b[0m\u001b[0m\n\u001b[1;32m     94\u001b[0m         \u001b[0;32mtry\u001b[0m\u001b[0;34m:\u001b[0m\u001b[0;34m\u001b[0m\u001b[0;34m\u001b[0m\u001b[0m\n\u001b[0;32m---> 95\u001b[0;31m             \u001b[0;32mreturn\u001b[0m \u001b[0mself\u001b[0m\u001b[0;34m.\u001b[0m\u001b[0m_apply\u001b[0m\u001b[0;34m(\u001b[0m\u001b[0;34m'__getitem__'\u001b[0m\u001b[0;34m,\u001b[0m \u001b[0mitem\u001b[0m\u001b[0;34m)\u001b[0m\u001b[0;34m\u001b[0m\u001b[0;34m\u001b[0m\u001b[0m\n\u001b[0m\u001b[1;32m     96\u001b[0m         \u001b[0;32mexcept\u001b[0m \u001b[0mIndexError\u001b[0m\u001b[0;34m:\u001b[0m\u001b[0;34m\u001b[0m\u001b[0;34m\u001b[0m\u001b[0m\n\u001b[1;32m     97\u001b[0m             \u001b[0;32mif\u001b[0m \u001b[0mself\u001b[0m\u001b[0;34m.\u001b[0m\u001b[0misscalar\u001b[0m\u001b[0;34m:\u001b[0m\u001b[0;34m\u001b[0m\u001b[0;34m\u001b[0m\u001b[0m\n",
      "\u001b[0;32m~/.local/lib/python3.8/site-packages/astropy/time/core.py\u001b[0m in \u001b[0;36m_apply\u001b[0;34m(self, method, format, cls, *args, **kwargs)\u001b[0m\n\u001b[1;32m   1054\u001b[0m         \u001b[0mjd1\u001b[0m\u001b[0;34m,\u001b[0m \u001b[0mjd2\u001b[0m \u001b[0;34m=\u001b[0m \u001b[0mself\u001b[0m\u001b[0;34m.\u001b[0m\u001b[0m_time\u001b[0m\u001b[0;34m.\u001b[0m\u001b[0mjd1\u001b[0m\u001b[0;34m,\u001b[0m \u001b[0mself\u001b[0m\u001b[0;34m.\u001b[0m\u001b[0m_time\u001b[0m\u001b[0;34m.\u001b[0m\u001b[0mjd2\u001b[0m\u001b[0;34m\u001b[0m\u001b[0;34m\u001b[0m\u001b[0m\n\u001b[1;32m   1055\u001b[0m         \u001b[0;32mif\u001b[0m \u001b[0mapply_method\u001b[0m\u001b[0;34m:\u001b[0m\u001b[0;34m\u001b[0m\u001b[0;34m\u001b[0m\u001b[0m\n\u001b[0;32m-> 1056\u001b[0;31m             \u001b[0mjd1\u001b[0m \u001b[0;34m=\u001b[0m \u001b[0mapply_method\u001b[0m\u001b[0;34m(\u001b[0m\u001b[0mjd1\u001b[0m\u001b[0;34m)\u001b[0m\u001b[0;34m\u001b[0m\u001b[0;34m\u001b[0m\u001b[0m\n\u001b[0m\u001b[1;32m   1057\u001b[0m             \u001b[0mjd2\u001b[0m \u001b[0;34m=\u001b[0m \u001b[0mapply_method\u001b[0m\u001b[0;34m(\u001b[0m\u001b[0mjd2\u001b[0m\u001b[0;34m)\u001b[0m\u001b[0;34m\u001b[0m\u001b[0;34m\u001b[0m\u001b[0m\n\u001b[1;32m   1058\u001b[0m \u001b[0;34m\u001b[0m\u001b[0m\n",
      "\u001b[0;31mIndexError\u001b[0m: boolean index did not match indexed array along dimension 0; dimension is 52195 but corresponding boolean dimension is 52052"
     ]
    }
   ],
   "source": [
    "lv_input, gv_input, output = [], [], []\n",
    "\n",
    "for item in grouped:\n",
    "    lc = lcs[item[\"host\"]]\n",
    "\n",
    "    for period in item[\"periods\"]:\n",
    "        per = period[\"period\"]\n",
    "        pdg = lc.to_periodogram(\"bls\", period=np.linspace(max(0.5, per * 0.9), per * 1.1, 1000))\n",
    "        per, dur, t0 = pdg.period_at_max_power.value, pdg.duration_at_max_power.value, pdg.transit_time_at_max_power.value\n",
    "\n",
    "        print(item[\"host\"], per)\n",
    "\n",
    "        #fold = lc.fold(per, epoch_time=t0)#.remove_outliers(sigma=10, sigma_lower=20).remove_nans()\n",
    "\n",
    "        #gv = fold.bin(bins=1001)\n",
    "\n",
    "        #if np.isnan(gv.flux.value).any():\n",
    "        #    gv.flux[np.isnan(gv.flux.value)] = np.nanmin(gv.flux.value)\n",
    "    \n",
    "        #gv = gv.normalize() - 1\n",
    "        #gv = (gv / np.abs(np.nanmin(gv.flux))) * 2.0 + 1\n",
    "        \n",
    "        #fractional_duration = dur / per\n",
    "        #phase_mask = (fold.phase.value > -4 * fractional_duration) & (fold.phase.value < 4 * fractional_duration)\n",
    "        #lc_zoom = fold[phase_mask]\n",
    "        #lv = lc_zoom.bin(bins=101)\n",
    "\n",
    "        #if np.isnan(lv.flux.value).any():\n",
    "        #    lv.flux[np.isnan(lv.flux.value)] = np.nanmin(lv.flux.value)\n",
    "    \n",
    "        #lv = lv.normalize() - 1\n",
    "        #lv = (lv / np.abs(np.nanmin(lv.flux))) * 2.0 + 1\n",
    "\n",
    "        #lv_input.append(lv.flux.value)\n",
    "        #gv_input.append(gv.flux.value)\n",
    "\n",
    "        #out = np.zeros(2,)\n",
    "        #out[period[\"planet\"]] = 1\n",
    "        #output.append(out)\n",
    "\n",
    "        if period[\"planet\"]:\n",
    "            mask = pdg.get_transit_mask(period=per, transit_time=t0, duration=dur)\n",
    "            masked_lc = lc[~mask]\n",
    "\n",
    "        #lv.scatter()\n",
    "        #gv.scatter()\n",
    "\n",
    "lv_input, gv_input, output = np.array(lv_input), np.array(gv_input), np.array(output)"
   ]
  },
  {
   "cell_type": "code",
   "execution_count": null,
   "metadata": {},
   "outputs": [],
   "source": []
  }
 ]
}