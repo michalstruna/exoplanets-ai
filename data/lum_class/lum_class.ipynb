{
 "cells": [
  {
   "cell_type": "markdown",
   "source": [
    "# Třída svítivosti\n",
    "\n",
    "V tomto dokumentu dojde k vytvoření neuronové sítě pro rozpoznávání třídy svítivosti hvězd na základě jejich absolutní magnitudy a barevného indexu B-V. K tomu je třeba importovat následující knihovny a moduly:"
   ],
   "metadata": {}
  },
  {
   "cell_type": "code",
   "execution_count": 11,
   "source": [
    "import pandas as pd\n",
    "import numpy as np\n",
    "from matplotlib import pyplot as plt\n",
    "\n",
    "from tensorflow.keras.models import Sequential, load_model\n",
    "from tensorflow.keras.layers import Dense\n",
    "from tensorflow.keras.callbacks import EarlyStopping"
   ],
   "outputs": [],
   "metadata": {}
  },
  {
   "cell_type": "markdown",
   "source": [
    "## Příprava dat\n",
    "\n",
    "K naučení neuronové sítě bude použit dataset dostupný přes [VizieR](https://vizier.u-strasbg.fr/viz-bin/VizieR-3?-source=V/137D/XHIP). Bylo vybráno pouze 579 hvězd reprezentujících všechny možné třídy svítivosti."
   ],
   "metadata": {}
  },
  {
   "cell_type": "code",
   "execution_count": 12,
   "source": [
    "data = pd.read_csv(\"stars.csv\")\n",
    "data"
   ],
   "outputs": [
    {
     "output_type": "execute_result",
     "data": {
      "text/plain": [
       "     teff    mag  lum_class\n",
       "0    3068  16.12          5\n",
       "1    3042  16.60          5\n",
       "2    2600  18.70          5\n",
       "3    2800  16.65          5\n",
       "4    1939  20.06          5\n",
       "..    ...    ...        ...\n",
       "574  4700   1.62          3\n",
       "575  4550   1.44          3\n",
       "576  5000   1.65          3\n",
       "577  4550   1.40          3\n",
       "578  4850   1.51          3\n",
       "\n",
       "[579 rows x 3 columns]"
      ],
      "text/html": [
       "<div>\n",
       "<style scoped>\n",
       "    .dataframe tbody tr th:only-of-type {\n",
       "        vertical-align: middle;\n",
       "    }\n",
       "\n",
       "    .dataframe tbody tr th {\n",
       "        vertical-align: top;\n",
       "    }\n",
       "\n",
       "    .dataframe thead th {\n",
       "        text-align: right;\n",
       "    }\n",
       "</style>\n",
       "<table border=\"1\" class=\"dataframe\">\n",
       "  <thead>\n",
       "    <tr style=\"text-align: right;\">\n",
       "      <th></th>\n",
       "      <th>teff</th>\n",
       "      <th>mag</th>\n",
       "      <th>lum_class</th>\n",
       "    </tr>\n",
       "  </thead>\n",
       "  <tbody>\n",
       "    <tr>\n",
       "      <th>0</th>\n",
       "      <td>3068</td>\n",
       "      <td>16.12</td>\n",
       "      <td>5</td>\n",
       "    </tr>\n",
       "    <tr>\n",
       "      <th>1</th>\n",
       "      <td>3042</td>\n",
       "      <td>16.60</td>\n",
       "      <td>5</td>\n",
       "    </tr>\n",
       "    <tr>\n",
       "      <th>2</th>\n",
       "      <td>2600</td>\n",
       "      <td>18.70</td>\n",
       "      <td>5</td>\n",
       "    </tr>\n",
       "    <tr>\n",
       "      <th>3</th>\n",
       "      <td>2800</td>\n",
       "      <td>16.65</td>\n",
       "      <td>5</td>\n",
       "    </tr>\n",
       "    <tr>\n",
       "      <th>4</th>\n",
       "      <td>1939</td>\n",
       "      <td>20.06</td>\n",
       "      <td>5</td>\n",
       "    </tr>\n",
       "    <tr>\n",
       "      <th>...</th>\n",
       "      <td>...</td>\n",
       "      <td>...</td>\n",
       "      <td>...</td>\n",
       "    </tr>\n",
       "    <tr>\n",
       "      <th>574</th>\n",
       "      <td>4700</td>\n",
       "      <td>1.62</td>\n",
       "      <td>3</td>\n",
       "    </tr>\n",
       "    <tr>\n",
       "      <th>575</th>\n",
       "      <td>4550</td>\n",
       "      <td>1.44</td>\n",
       "      <td>3</td>\n",
       "    </tr>\n",
       "    <tr>\n",
       "      <th>576</th>\n",
       "      <td>5000</td>\n",
       "      <td>1.65</td>\n",
       "      <td>3</td>\n",
       "    </tr>\n",
       "    <tr>\n",
       "      <th>577</th>\n",
       "      <td>4550</td>\n",
       "      <td>1.40</td>\n",
       "      <td>3</td>\n",
       "    </tr>\n",
       "    <tr>\n",
       "      <th>578</th>\n",
       "      <td>4850</td>\n",
       "      <td>1.51</td>\n",
       "      <td>3</td>\n",
       "    </tr>\n",
       "  </tbody>\n",
       "</table>\n",
       "<p>579 rows × 3 columns</p>\n",
       "</div>"
      ]
     },
     "metadata": {},
     "execution_count": 12
    }
   ],
   "metadata": {
    "scrolled": true
   }
  },
  {
   "cell_type": "markdown",
   "source": [
    "Z teploty `teff` nejdříve odvodíme barevný index B-V."
   ],
   "metadata": {}
  },
  {
   "cell_type": "code",
   "execution_count": 13,
   "source": [
    "spect_classes = [\"O\", \"B\", \"A\", \"F\", \"G\", \"K\", \"M\", \"L\", \"T\"]\n",
    "classes = [\"0\", \"I\", \"II\", \"III\", \"IV\", \"V\", \"VI\", \"VII\"]\n",
    "\n",
    "data[\"bv\"] = data[\"teff\"].apply(lambda t: -3.684 * np.log10(t) + 14.551 if t < 9641 else 0.344 * np.log10(t)**2 - 3.402 * np.log10(t) + 8.037)\n",
    "\n",
    "data"
   ],
   "outputs": [
    {
     "output_type": "execute_result",
     "data": {
      "text/plain": [
       "     teff    mag  lum_class        bv\n",
       "0    3068  16.12          5  1.705425\n",
       "1    3042  16.60          5  1.719041\n",
       "2    2600  18.70          5  1.970238\n",
       "3    2800  16.65          5  1.851670\n",
       "4    1939  20.06          5  2.439563\n",
       "..    ...    ...        ...       ...\n",
       "574  4700   1.62          3  1.022991\n",
       "575  4550   1.44          3  1.074886\n",
       "576  5000   1.65          3  0.923995\n",
       "577  4550   1.40          3  1.074886\n",
       "578  4850   1.51          3  0.972727\n",
       "\n",
       "[579 rows x 4 columns]"
      ],
      "text/html": [
       "<div>\n",
       "<style scoped>\n",
       "    .dataframe tbody tr th:only-of-type {\n",
       "        vertical-align: middle;\n",
       "    }\n",
       "\n",
       "    .dataframe tbody tr th {\n",
       "        vertical-align: top;\n",
       "    }\n",
       "\n",
       "    .dataframe thead th {\n",
       "        text-align: right;\n",
       "    }\n",
       "</style>\n",
       "<table border=\"1\" class=\"dataframe\">\n",
       "  <thead>\n",
       "    <tr style=\"text-align: right;\">\n",
       "      <th></th>\n",
       "      <th>teff</th>\n",
       "      <th>mag</th>\n",
       "      <th>lum_class</th>\n",
       "      <th>bv</th>\n",
       "    </tr>\n",
       "  </thead>\n",
       "  <tbody>\n",
       "    <tr>\n",
       "      <th>0</th>\n",
       "      <td>3068</td>\n",
       "      <td>16.12</td>\n",
       "      <td>5</td>\n",
       "      <td>1.705425</td>\n",
       "    </tr>\n",
       "    <tr>\n",
       "      <th>1</th>\n",
       "      <td>3042</td>\n",
       "      <td>16.60</td>\n",
       "      <td>5</td>\n",
       "      <td>1.719041</td>\n",
       "    </tr>\n",
       "    <tr>\n",
       "      <th>2</th>\n",
       "      <td>2600</td>\n",
       "      <td>18.70</td>\n",
       "      <td>5</td>\n",
       "      <td>1.970238</td>\n",
       "    </tr>\n",
       "    <tr>\n",
       "      <th>3</th>\n",
       "      <td>2800</td>\n",
       "      <td>16.65</td>\n",
       "      <td>5</td>\n",
       "      <td>1.851670</td>\n",
       "    </tr>\n",
       "    <tr>\n",
       "      <th>4</th>\n",
       "      <td>1939</td>\n",
       "      <td>20.06</td>\n",
       "      <td>5</td>\n",
       "      <td>2.439563</td>\n",
       "    </tr>\n",
       "    <tr>\n",
       "      <th>...</th>\n",
       "      <td>...</td>\n",
       "      <td>...</td>\n",
       "      <td>...</td>\n",
       "      <td>...</td>\n",
       "    </tr>\n",
       "    <tr>\n",
       "      <th>574</th>\n",
       "      <td>4700</td>\n",
       "      <td>1.62</td>\n",
       "      <td>3</td>\n",
       "      <td>1.022991</td>\n",
       "    </tr>\n",
       "    <tr>\n",
       "      <th>575</th>\n",
       "      <td>4550</td>\n",
       "      <td>1.44</td>\n",
       "      <td>3</td>\n",
       "      <td>1.074886</td>\n",
       "    </tr>\n",
       "    <tr>\n",
       "      <th>576</th>\n",
       "      <td>5000</td>\n",
       "      <td>1.65</td>\n",
       "      <td>3</td>\n",
       "      <td>0.923995</td>\n",
       "    </tr>\n",
       "    <tr>\n",
       "      <th>577</th>\n",
       "      <td>4550</td>\n",
       "      <td>1.40</td>\n",
       "      <td>3</td>\n",
       "      <td>1.074886</td>\n",
       "    </tr>\n",
       "    <tr>\n",
       "      <th>578</th>\n",
       "      <td>4850</td>\n",
       "      <td>1.51</td>\n",
       "      <td>3</td>\n",
       "      <td>0.972727</td>\n",
       "    </tr>\n",
       "  </tbody>\n",
       "</table>\n",
       "<p>579 rows × 4 columns</p>\n",
       "</div>"
      ]
     },
     "metadata": {},
     "execution_count": 13
    }
   ],
   "metadata": {
    "scrolled": false
   }
  },
  {
   "cell_type": "markdown",
   "source": [
    "Následně sestrojíme graf zobrazující tyto veličiny:"
   ],
   "metadata": {}
  },
  {
   "cell_type": "code",
   "execution_count": 14,
   "source": [
    "plt.rcParams[\"figure.figsize\"] = (6,8)\n",
    "plt.grid()\n",
    "plt.gca().invert_yaxis()\n",
    "sc = plt.scatter(data[\"bv\"], data[\"mag\"], c=data[\"lum_class\"], cmap=\"Set1\", s=24)\n",
    "\n",
    "handles, labels = sc.legend_elements(prop=\"colors\")\n",
    "legend = plt.legend(handles, labels, title=\"Lum class\")"
   ],
   "outputs": [
    {
     "output_type": "display_data",
     "data": {
      "text/plain": [
       "<Figure size 432x576 with 1 Axes>"
      ],
      "image/png": "[encoded data removed]"
     },
     "metadata": {
      "needs_background": "light"
     }
    }
   ],
   "metadata": {}
  },
  {
   "cell_type": "markdown",
   "source": [
    "Jednotlivé třídy svítivosti jsou zřetelně odděleny a jejich rozmístění odpovídá [Hertzsprungovu–Russellovu diagramu](https://cs.wikipedia.org/wiki/Hertzsprung%C5%AFv%E2%80%93Russell%C5%AFv_diagram)."
   ],
   "metadata": {}
  },
  {
   "cell_type": "markdown",
   "source": [
    "## Sestrojení neuronové sítě\n",
    "\n",
    "Nejdříve definujeme architekturu sítě."
   ],
   "metadata": {}
  },
  {
   "cell_type": "code",
   "execution_count": 15,
   "source": [
    "nn = Sequential([\n",
    "    Dense(32, input_shape=(2,), activation=\"relu\"),\n",
    "    Dense(len(classes), activation=\"softmax\")\n",
    "])\n",
    "\n",
    "nn.compile(optimizer=\"rmsprop\", loss=\"mse\")\n",
    "nn.summary()"
   ],
   "outputs": [
    {
     "output_type": "stream",
     "name": "stdout",
     "text": [
      "Model: \"sequential_1\"\n",
      "_________________________________________________________________\n",
      "Layer (type)                 Output Shape              Param #   \n",
      "=================================================================\n",
      "dense_2 (Dense)              (None, 32)                96        \n",
      "_________________________________________________________________\n",
      "dense_3 (Dense)              (None, 8)                 264       \n",
      "=================================================================\n",
      "Total params: 360\n",
      "Trainable params: 360\n",
      "Non-trainable params: 0\n",
      "_________________________________________________________________\n"
     ]
    }
   ],
   "metadata": {}
  },
  {
   "cell_type": "markdown",
   "source": [
    "Následně rozdělíme námi připravená data na trénovací (80 %) a testovací (20 %)."
   ],
   "metadata": {}
  },
  {
   "cell_type": "code",
   "execution_count": 17,
   "source": [
    "data = data.sample(frac=1)  # Shuffle\n",
    "data = data.reset_index(drop=True)\n",
    "\n",
    "test_size = round(0.15 * data.shape[0])\n",
    "\n",
    "x = data[[\"bv\", \"mag\"]].to_numpy()\n",
    "x_train, x_test = x[test_size:], x[:test_size]\n",
    "\n",
    "y = np.zeros((data.shape[0], len(classes)))\n",
    "\n",
    "for i, item in data.iterrows():\n",
    "    #y[i,classes.index(item[\"lum_class\"])] = 1\n",
    "    y[i,int(item[\"lum_class\"])] = 1\n",
    "    \n",
    "y_train, y_test = y[test_size:], y[:test_size]"
   ],
   "outputs": [],
   "metadata": {}
  },
  {
   "cell_type": "markdown",
   "source": [
    "Síť naučíme z trénovacích dat:"
   ],
   "metadata": {}
  },
  {
   "cell_type": "code",
   "execution_count": null,
   "source": [
    "stop = EarlyStopping(monitor=\"loss\", patience=20)\n",
    "nn.fit(x_train, y_train, epochs=1000, callbacks=[stop])"
   ],
   "outputs": [],
   "metadata": {
    "scrolled": true,
    "tags": [
     "outputPrepend"
    ]
   }
  },
  {
   "cell_type": "markdown",
   "source": [
    "Nakonec otestujeme úspěšnost sítě."
   ],
   "metadata": {}
  },
  {
   "cell_type": "code",
   "execution_count": 19,
   "source": [
    "result = nn.predict(x_test)\n",
    "(result.argmax(axis=1) == y_test.argmax(axis=1)).sum() / len(result)"
   ],
   "outputs": [
    {
     "output_type": "execute_result",
     "data": {
      "text/plain": [
       "0.9770114942528736"
      ]
     },
     "metadata": {},
     "execution_count": 19
    }
   ],
   "metadata": {}
  },
  {
   "cell_type": "markdown",
   "source": [
    "Úspěšnost sítě se pohybuje mezi 95 % a 100 %, což je pro účely aplikace dostačující. Pro použití i mimo tento dokument vytvořenou a naučenou neuronovou síť uložíme do souboru."
   ],
   "metadata": {}
  },
  {
   "cell_type": "code",
   "execution_count": 20,
   "source": [
    "nn.save(\"lum_class.h5\")\n",
    "#model = load_model(\"lum_class.h5\")"
   ],
   "outputs": [],
   "metadata": {}
  },
  {
   "cell_type": "code",
   "execution_count": null,
   "source": [],
   "outputs": [],
   "metadata": {}
  }
 ],
 "metadata": {
  "kernelspec": {
   "display_name": "Python 3",
   "language": "python",
   "name": "python3"
  },
  "language_info": {
   "codemirror_mode": {
    "name": "ipython",
    "version": 3
   },
   "file_extension": ".py",
   "mimetype": "text/x-python",
   "name": "python",
   "nbconvert_exporter": "python",
   "pygments_lexer": "ipython3",
   "version": "3.8.5-final"
  }
 },
 "nbformat": 4,
 "nbformat_minor": 2
}